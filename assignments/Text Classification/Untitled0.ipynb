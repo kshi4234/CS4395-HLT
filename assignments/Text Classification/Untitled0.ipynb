{
  "nbformat": 4,
  "nbformat_minor": 0,
  "metadata": {
    "colab": {
      "provenance": []
    },
    "kernelspec": {
      "name": "python3",
      "display_name": "Python 3"
    },
    "language_info": {
      "name": "python"
    }
  },
  "cells": [
    {
      "cell_type": "code",
      "source": [
        "from google.colab import drive\n",
        "drive.mount('/content/drive')"
      ],
      "metadata": {
        "colab": {
          "base_uri": "https://localhost:8080/"
        },
        "id": "yy3EaPx4pXxa",
        "outputId": "1a710789-98ff-4f7e-fbae-b34c2c098ab8"
      },
      "execution_count": 1,
      "outputs": [
        {
          "output_type": "stream",
          "name": "stdout",
          "text": [
            "Drive already mounted at /content/drive; to attempt to forcibly remount, call drive.mount(\"/content/drive\", force_remount=True).\n"
          ]
        }
      ]
    },
    {
      "cell_type": "code",
      "execution_count": 2,
      "metadata": {
        "id": "_NO6AdTpRVEs"
      },
      "outputs": [],
      "source": [
        "import tensorflow as tf\n",
        "from keras.preprocessing.text import Tokenizer\n",
        "from keras import layers, models\n",
        "\n",
        "from sklearn.preprocessing import LabelEncoder\n",
        "import pickle\n",
        "import numpy as np\n",
        "import pandas as pd"
      ]
    },
    {
      "cell_type": "code",
      "source": [
        "train_set = pd.read_csv('drive/MyDrive/Corona_NLP_train.csv', encoding='latin-1', usecols=[4,5])[:1000]\n",
        "test_set = pd.read_csv('drive/MyDrive/Corona_NLP_test.csv', encoding='latin-1', usecols=[4,5])[:100]\n",
        "\n",
        "train_set.loc[train_set['Sentiment'] == 'Extremely Negative', 'Sentiment'] = 0\n",
        "train_set.loc[train_set['Sentiment'] == 'Negative', 'Sentiment'] = 1\n",
        "train_set.loc[train_set['Sentiment'] == 'Neutral', 'Sentiment'] = 2\n",
        "train_set.loc[train_set['Sentiment'] == 'Positive', 'Sentiment'] = 3\n",
        "train_set.loc[train_set['Sentiment'] == 'Extremely Positive', 'Sentiment'] = 4\n",
        "\n",
        "test_set.loc[test_set['Sentiment'] == 'Extremely Negative', 'Sentiment'] = 0\n",
        "test_set.loc[test_set['Sentiment'] == 'Negative', 'Sentiment'] = 1\n",
        "test_set.loc[test_set['Sentiment'] == 'Neutral', 'Sentiment'] = 2\n",
        "test_set.loc[test_set['Sentiment'] == 'Positive', 'Sentiment'] = 3\n",
        "test_set.loc[test_set['Sentiment'] == 'Extremely Positive', 'Sentiment'] = 4\n",
        "\n",
        "print(train_set)\n",
        "print(test_set)"
      ],
      "metadata": {
        "colab": {
          "base_uri": "https://localhost:8080/"
        },
        "id": "vZPJnxcTp0ra",
        "outputId": "6183c38a-78ba-4650-a685-d570999acc61"
      },
      "execution_count": 6,
      "outputs": [
        {
          "output_type": "stream",
          "name": "stdout",
          "text": [
            "                                         OriginalTweet Sentiment\n",
            "0    @MeNyrbie @Phil_Gahan @Chrisitv https://t.co/i...         2\n",
            "1    advice Talk to your neighbours family to excha...         3\n",
            "2    Coronavirus Australia: Woolworths to give elde...         3\n",
            "3    My food stock is not the only one which is emp...         3\n",
            "4    Me, ready to go at supermarket during the #COV...         0\n",
            "..                                                 ...       ...\n",
            "995  Connectivity is essential during times of cris...         1\n",
            "996  @standwithPrager Wells Fargo is committed to h...         4\n",
            "997  @KariLeeAK907 Wells Fargo is committed to help...         4\n",
            "998  @TheIndigoAuthor Wells Fargo is committed to h...         4\n",
            "999  @WinAtLifeOnline Rest assured that our team is...         1\n",
            "\n",
            "[1000 rows x 2 columns]\n",
            "                                        OriginalTweet Sentiment\n",
            "0   TRENDING: New Yorkers encounter empty supermar...         0\n",
            "1   When I couldn't find hand sanitizer at Fred Me...         3\n",
            "2   Find out how you can protect yourself and love...         4\n",
            "3   #Panic buying hits #NewYork City as anxious sh...         1\n",
            "4   #toiletpaper #dunnypaper #coronavirus #coronav...         2\n",
            "..                                                ...       ...\n",
            "95  The government must provide hand sanitizer in ...         4\n",
            "96  What You Need If Quarantined at Home | #Corona...         2\n",
            "97  See the new @FujifilmX_US X-T4 and X100V at Ro...         4\n",
            "98  Spiking prices during a state of emergency is ...         0\n",
            "99  Besides canned food and toilet paper.\\r\\r\\n\\r\\...         2\n",
            "\n",
            "[100 rows x 2 columns]\n"
          ]
        }
      ]
    },
    {
      "cell_type": "code",
      "source": [
        "# set up X and Y\n",
        "num_labels = 5\n",
        "vocab_size = 10000\n",
        "batch_size = 100\n",
        "\n",
        "# fit the tokenizer on the training data\n",
        "tokenizer = Tokenizer(num_words=vocab_size)\n",
        "tokenizer.fit_on_texts(train_set.OriginalTweet)\n",
        "\n",
        "x_train = tokenizer.texts_to_matrix(train_set.OriginalTweet, mode='tfidf')\n",
        "x_test = tokenizer.texts_to_matrix(test_set.OriginalTweet, mode='tfidf')\n",
        "\n",
        "encoder = LabelEncoder()\n",
        "encoder.fit(train_set.Sentiment)\n",
        "y_train = encoder.transform(train_set.Sentiment)\n",
        "y_test = encoder.transform(test_set.Sentiment)\n",
        "\n",
        "# check shape\n",
        "print(\"train shapes:\", x_train.shape, y_train.shape)\n",
        "print(\"test shapes:\", x_test.shape, y_test.shape)\n",
        "print(\"test first five labels:\", y_test[:5])"
      ],
      "metadata": {
        "colab": {
          "base_uri": "https://localhost:8080/"
        },
        "id": "waRrwU5cmYDs",
        "outputId": "8b631e90-83c2-48d0-c0d7-a7fe5823132b"
      },
      "execution_count": 7,
      "outputs": [
        {
          "output_type": "stream",
          "name": "stdout",
          "text": [
            "train shapes: (1000, 10000) (1000,)\n",
            "test shapes: (100, 10000) (100,)\n",
            "test first five labels: [0 3 4 1 2]\n"
          ]
        }
      ]
    },
    {
      "cell_type": "code",
      "source": [
        "import keras.backend as K\n",
        "\n",
        "\n",
        "model = models.Sequential()\n",
        "model.add(layers.Dense(500, input_dim=vocab_size, kernel_initializer='normal', activation='relu'))\n",
        "model.add(layers.Dense(5, kernel_initializer='normal', activation='softmax'))\n",
        " \n",
        "model.compile(loss='sparse_categorical_crossentropy',\n",
        "              optimizer='adam',\n",
        "              metrics=['accuracy'])\n",
        " \n",
        "history = model.fit(x_train, y_train,\n",
        "                    batch_size=batch_size,\n",
        "                    epochs=30,\n",
        "                    verbose=1,\n",
        "                    validation_split=0.1)"
      ],
      "metadata": {
        "colab": {
          "base_uri": "https://localhost:8080/"
        },
        "id": "Eiprf1eKw95m",
        "outputId": "f6a6bc90-8625-4c0b-b5c9-7b592ea95a5c"
      },
      "execution_count": 8,
      "outputs": [
        {
          "output_type": "stream",
          "name": "stdout",
          "text": [
            "Epoch 1/30\n",
            "9/9 [==============================] - 1s 83ms/step - loss: 1.7421 - accuracy: 0.2600 - val_loss: 1.6102 - val_accuracy: 0.2800\n",
            "Epoch 2/30\n",
            "9/9 [==============================] - 1s 67ms/step - loss: 0.5140 - accuracy: 0.9067 - val_loss: 1.5485 - val_accuracy: 0.3200\n",
            "Epoch 3/30\n",
            "9/9 [==============================] - 1s 66ms/step - loss: 0.1772 - accuracy: 0.9922 - val_loss: 1.5592 - val_accuracy: 0.3100\n",
            "Epoch 4/30\n",
            "9/9 [==============================] - 1s 65ms/step - loss: 0.0824 - accuracy: 0.9989 - val_loss: 1.5678 - val_accuracy: 0.3200\n",
            "Epoch 5/30\n",
            "9/9 [==============================] - 1s 65ms/step - loss: 0.0475 - accuracy: 0.9989 - val_loss: 1.5776 - val_accuracy: 0.3100\n",
            "Epoch 6/30\n",
            "9/9 [==============================] - 1s 66ms/step - loss: 0.0311 - accuracy: 1.0000 - val_loss: 1.5935 - val_accuracy: 0.3000\n",
            "Epoch 7/30\n",
            "9/9 [==============================] - 1s 66ms/step - loss: 0.0232 - accuracy: 0.9989 - val_loss: 1.6093 - val_accuracy: 0.3100\n",
            "Epoch 8/30\n",
            "9/9 [==============================] - 1s 64ms/step - loss: 0.0182 - accuracy: 0.9989 - val_loss: 1.6021 - val_accuracy: 0.3400\n",
            "Epoch 9/30\n",
            "9/9 [==============================] - 1s 65ms/step - loss: 0.0142 - accuracy: 1.0000 - val_loss: 1.6144 - val_accuracy: 0.3300\n",
            "Epoch 10/30\n",
            "9/9 [==============================] - 1s 65ms/step - loss: 0.0118 - accuracy: 1.0000 - val_loss: 1.6232 - val_accuracy: 0.3300\n",
            "Epoch 11/30\n",
            "9/9 [==============================] - 1s 69ms/step - loss: 0.0104 - accuracy: 0.9989 - val_loss: 1.6318 - val_accuracy: 0.3400\n",
            "Epoch 12/30\n",
            "9/9 [==============================] - 1s 66ms/step - loss: 0.0087 - accuracy: 1.0000 - val_loss: 1.6286 - val_accuracy: 0.3600\n",
            "Epoch 13/30\n",
            "9/9 [==============================] - 1s 64ms/step - loss: 0.0078 - accuracy: 1.0000 - val_loss: 1.6343 - val_accuracy: 0.3600\n",
            "Epoch 14/30\n",
            "9/9 [==============================] - 1s 66ms/step - loss: 0.0067 - accuracy: 1.0000 - val_loss: 1.6422 - val_accuracy: 0.3500\n",
            "Epoch 15/30\n",
            "9/9 [==============================] - 1s 62ms/step - loss: 0.0060 - accuracy: 1.0000 - val_loss: 1.6482 - val_accuracy: 0.3500\n",
            "Epoch 16/30\n",
            "9/9 [==============================] - 1s 69ms/step - loss: 0.0055 - accuracy: 1.0000 - val_loss: 1.6521 - val_accuracy: 0.3400\n",
            "Epoch 17/30\n",
            "9/9 [==============================] - 1s 66ms/step - loss: 0.0050 - accuracy: 1.0000 - val_loss: 1.6549 - val_accuracy: 0.3400\n",
            "Epoch 18/30\n",
            "9/9 [==============================] - 1s 64ms/step - loss: 0.0047 - accuracy: 1.0000 - val_loss: 1.6668 - val_accuracy: 0.3300\n",
            "Epoch 19/30\n",
            "9/9 [==============================] - 1s 70ms/step - loss: 0.0040 - accuracy: 1.0000 - val_loss: 1.6652 - val_accuracy: 0.3400\n",
            "Epoch 20/30\n",
            "9/9 [==============================] - 1s 64ms/step - loss: 0.0040 - accuracy: 1.0000 - val_loss: 1.6663 - val_accuracy: 0.3500\n",
            "Epoch 21/30\n",
            "9/9 [==============================] - 1s 66ms/step - loss: 0.0033 - accuracy: 1.0000 - val_loss: 1.6791 - val_accuracy: 0.3300\n",
            "Epoch 22/30\n",
            "9/9 [==============================] - 1s 66ms/step - loss: 0.0033 - accuracy: 1.0000 - val_loss: 1.6823 - val_accuracy: 0.3300\n",
            "Epoch 23/30\n",
            "9/9 [==============================] - 1s 68ms/step - loss: 0.0029 - accuracy: 1.0000 - val_loss: 1.6819 - val_accuracy: 0.3400\n",
            "Epoch 24/30\n",
            "9/9 [==============================] - 1s 65ms/step - loss: 0.0027 - accuracy: 1.0000 - val_loss: 1.6877 - val_accuracy: 0.3300\n",
            "Epoch 25/30\n",
            "9/9 [==============================] - 1s 65ms/step - loss: 0.0026 - accuracy: 1.0000 - val_loss: 1.6940 - val_accuracy: 0.3300\n",
            "Epoch 26/30\n",
            "9/9 [==============================] - 1s 66ms/step - loss: 0.0026 - accuracy: 1.0000 - val_loss: 1.6919 - val_accuracy: 0.3500\n",
            "Epoch 27/30\n",
            "9/9 [==============================] - 1s 65ms/step - loss: 0.0023 - accuracy: 1.0000 - val_loss: 1.7031 - val_accuracy: 0.3400\n",
            "Epoch 28/30\n",
            "9/9 [==============================] - 1s 63ms/step - loss: 0.0021 - accuracy: 1.0000 - val_loss: 1.7023 - val_accuracy: 0.3600\n",
            "Epoch 29/30\n",
            "9/9 [==============================] - 1s 65ms/step - loss: 0.0021 - accuracy: 1.0000 - val_loss: 1.7101 - val_accuracy: 0.3400\n",
            "Epoch 30/30\n",
            "9/9 [==============================] - 1s 66ms/step - loss: 0.0018 - accuracy: 1.0000 - val_loss: 1.7111 - val_accuracy: 0.3400\n"
          ]
        }
      ]
    },
    {
      "cell_type": "code",
      "source": [
        "print(x_test)\n",
        "print(y_test)\n",
        "score = model.evaluate(x_test, y_test, batch_size=batch_size, verbose=1)\n",
        "print('Accuracy: ', score[1])"
      ],
      "metadata": {
        "colab": {
          "base_uri": "https://localhost:8080/"
        },
        "id": "sBM3hUDRxGJL",
        "outputId": "72a1e93d-0c92-426c-f963-84ec41705e97"
      },
      "execution_count": 9,
      "outputs": [
        {
          "output_type": "stream",
          "name": "stdout",
          "text": [
            "[[0.         0.         0.         ... 0.         0.         0.        ]\n",
            " [0.         0.         0.95946744 ... 0.         0.         0.        ]\n",
            " [0.         0.         0.         ... 0.         0.         0.        ]\n",
            " ...\n",
            " [0.         0.95159035 1.62451959 ... 0.         0.         0.        ]\n",
            " [0.         0.         0.         ... 0.         0.         0.        ]\n",
            " [0.         0.         0.         ... 0.         0.         0.        ]]\n",
            "[0 3 4 1 2 2 3 2 0 4 3 0 0 4 3 0 4 2 3 4 1 4 4 4 0 3 1 1 1 3 1 4 0 0 2 0 1\n",
            " 2 1 4 3 1 2 3 3 4 4 0 0 0 0 2 1 4 0 1 1 3 3 2 0 0 4 0 3 1 3 4 3 3 1 4 3 1\n",
            " 2 0 1 3 3 3 0 1 4 1 1 1 1 2 1 1 1 1 3 1 1 4 2 4 0 2]\n",
            "1/1 [==============================] - 0s 37ms/step - loss: 1.9284 - accuracy: 0.3800\n",
            "Accuracy:  0.3799999952316284\n"
          ]
        }
      ]
    },
    {
      "cell_type": "code",
      "source": [
        "model = models.Sequential()\n",
        "model.add(layers.Embedding(vocab_size, 32))\n",
        "model.add(layers.SimpleRNN(32))\n",
        "model.add(layers.Dense(5, kernel_initializer='normal', activation='softmax'))\n",
        " \n",
        "model.compile(loss='sparse_categorical_crossentropy',\n",
        "              optimizer='rmsprop',\n",
        "              metrics=['accuracy'])\n",
        " \n",
        "history = model.fit(x_train, y_train,\n",
        "                    batch_size=batch_size,\n",
        "                    epochs=30,\n",
        "                    verbose=1,\n",
        "                    validation_split=0.1)"
      ],
      "metadata": {
        "colab": {
          "base_uri": "https://localhost:8080/"
        },
        "id": "UsfZ3AkcIsLT",
        "outputId": "4ba974eb-d19d-4aff-84e8-640ea3064da6"
      },
      "execution_count": 10,
      "outputs": [
        {
          "output_type": "stream",
          "name": "stdout",
          "text": [
            "Epoch 1/30\n",
            "9/9 [==============================] - 104s 11s/step - loss: 1.6046 - accuracy: 0.2344 - val_loss: 1.6019 - val_accuracy: 0.2100\n",
            "Epoch 2/30\n",
            "9/9 [==============================] - 101s 11s/step - loss: 1.5935 - accuracy: 0.2622 - val_loss: 1.5945 - val_accuracy: 0.2100\n",
            "Epoch 3/30\n",
            "9/9 [==============================] - 100s 11s/step - loss: 1.5833 - accuracy: 0.2622 - val_loss: 1.5906 - val_accuracy: 0.2100\n",
            "Epoch 4/30\n",
            "9/9 [==============================] - 101s 11s/step - loss: 1.5788 - accuracy: 0.2622 - val_loss: 1.5900 - val_accuracy: 0.3000\n",
            "Epoch 5/30\n",
            "9/9 [==============================] - 106s 12s/step - loss: 1.5778 - accuracy: 0.2589 - val_loss: 1.5911 - val_accuracy: 0.2100\n",
            "Epoch 6/30\n",
            "9/9 [==============================] - 103s 11s/step - loss: 1.5781 - accuracy: 0.2489 - val_loss: 1.5914 - val_accuracy: 0.2100\n",
            "Epoch 7/30\n",
            "9/9 [==============================] - 102s 11s/step - loss: 1.5779 - accuracy: 0.2333 - val_loss: 1.5911 - val_accuracy: 0.2100\n",
            "Epoch 8/30\n",
            "9/9 [==============================] - 103s 12s/step - loss: 1.5792 - accuracy: 0.2533 - val_loss: 1.5910 - val_accuracy: 0.2100\n",
            "Epoch 9/30\n",
            "9/9 [==============================] - 102s 11s/step - loss: 1.5780 - accuracy: 0.2533 - val_loss: 1.5897 - val_accuracy: 0.3000\n",
            "Epoch 10/30\n",
            "9/9 [==============================] - 102s 11s/step - loss: 1.5783 - accuracy: 0.2567 - val_loss: 1.5900 - val_accuracy: 0.2100\n",
            "Epoch 11/30\n",
            "9/9 [==============================] - 100s 11s/step - loss: 1.5784 - accuracy: 0.2622 - val_loss: 1.5895 - val_accuracy: 0.3000\n",
            "Epoch 12/30\n",
            "9/9 [==============================] - 100s 11s/step - loss: 1.5793 - accuracy: 0.2433 - val_loss: 1.5903 - val_accuracy: 0.3000\n",
            "Epoch 13/30\n",
            "9/9 [==============================] - 101s 11s/step - loss: 1.5780 - accuracy: 0.2422 - val_loss: 1.5918 - val_accuracy: 0.3000\n",
            "Epoch 14/30\n",
            "9/9 [==============================] - 104s 12s/step - loss: 1.5778 - accuracy: 0.2600 - val_loss: 1.5889 - val_accuracy: 0.3000\n",
            "Epoch 15/30\n",
            "9/9 [==============================] - 103s 11s/step - loss: 1.5786 - accuracy: 0.2644 - val_loss: 1.5919 - val_accuracy: 0.2100\n",
            "Epoch 16/30\n",
            "9/9 [==============================] - 104s 12s/step - loss: 1.5782 - accuracy: 0.2478 - val_loss: 1.5922 - val_accuracy: 0.3000\n",
            "Epoch 17/30\n",
            "9/9 [==============================] - 102s 11s/step - loss: 1.5777 - accuracy: 0.2556 - val_loss: 1.5886 - val_accuracy: 0.3000\n",
            "Epoch 18/30\n",
            "9/9 [==============================] - 104s 12s/step - loss: 1.5783 - accuracy: 0.2489 - val_loss: 1.5886 - val_accuracy: 0.3000\n",
            "Epoch 19/30\n",
            "9/9 [==============================] - 104s 12s/step - loss: 1.5782 - accuracy: 0.2633 - val_loss: 1.5896 - val_accuracy: 0.3000\n",
            "Epoch 20/30\n",
            "9/9 [==============================] - 103s 11s/step - loss: 1.5785 - accuracy: 0.2433 - val_loss: 1.5887 - val_accuracy: 0.3000\n",
            "Epoch 21/30\n",
            "9/9 [==============================] - 103s 11s/step - loss: 1.5783 - accuracy: 0.2622 - val_loss: 1.5900 - val_accuracy: 0.2100\n",
            "Epoch 22/30\n",
            "9/9 [==============================] - 104s 12s/step - loss: 1.5779 - accuracy: 0.2622 - val_loss: 1.5907 - val_accuracy: 0.3000\n",
            "Epoch 23/30\n",
            "9/9 [==============================] - 103s 11s/step - loss: 1.5781 - accuracy: 0.2444 - val_loss: 1.5894 - val_accuracy: 0.3000\n",
            "Epoch 24/30\n",
            "9/9 [==============================] - 101s 11s/step - loss: 1.5788 - accuracy: 0.2356 - val_loss: 1.5907 - val_accuracy: 0.3000\n",
            "Epoch 25/30\n",
            "9/9 [==============================] - 102s 11s/step - loss: 1.5780 - accuracy: 0.2622 - val_loss: 1.5899 - val_accuracy: 0.2100\n",
            "Epoch 26/30\n",
            "9/9 [==============================] - 102s 11s/step - loss: 1.5784 - accuracy: 0.2622 - val_loss: 1.5891 - val_accuracy: 0.3000\n",
            "Epoch 27/30\n",
            "9/9 [==============================] - 100s 11s/step - loss: 1.5779 - accuracy: 0.2533 - val_loss: 1.5904 - val_accuracy: 0.3000\n",
            "Epoch 28/30\n",
            "9/9 [==============================] - 102s 11s/step - loss: 1.5779 - accuracy: 0.2433 - val_loss: 1.5890 - val_accuracy: 0.3000\n",
            "Epoch 29/30\n",
            "9/9 [==============================] - 99s 11s/step - loss: 1.5778 - accuracy: 0.2611 - val_loss: 1.5900 - val_accuracy: 0.2100\n",
            "Epoch 30/30\n",
            "9/9 [==============================] - 100s 11s/step - loss: 1.5782 - accuracy: 0.2622 - val_loss: 1.5916 - val_accuracy: 0.2100\n"
          ]
        }
      ]
    },
    {
      "cell_type": "code",
      "source": [
        "print(x_test)\n",
        "print(y_test)\n",
        "score = model.evaluate(x_test, y_test, batch_size=batch_size, verbose=1)\n",
        "print('Accuracy: ', score[1])"
      ],
      "metadata": {
        "colab": {
          "base_uri": "https://localhost:8080/"
        },
        "id": "F44bHirnKU23",
        "outputId": "10ab116f-6ac7-4b44-d7fa-d61d4cc91724"
      },
      "execution_count": 11,
      "outputs": [
        {
          "output_type": "stream",
          "name": "stdout",
          "text": [
            "[[0.         0.         0.         ... 0.         0.         0.        ]\n",
            " [0.         0.         0.95946744 ... 0.         0.         0.        ]\n",
            " [0.         0.         0.         ... 0.         0.         0.        ]\n",
            " ...\n",
            " [0.         0.95159035 1.62451959 ... 0.         0.         0.        ]\n",
            " [0.         0.         0.         ... 0.         0.         0.        ]\n",
            " [0.         0.         0.         ... 0.         0.         0.        ]]\n",
            "[0 3 4 1 2 2 3 2 0 4 3 0 0 4 3 0 4 2 3 4 1 4 4 4 0 3 1 1 1 3 1 4 0 0 2 0 1\n",
            " 2 1 4 3 1 2 3 3 4 4 0 0 0 0 2 1 4 0 1 1 3 3 2 0 0 4 0 3 1 3 4 3 3 1 4 3 1\n",
            " 2 0 1 3 3 3 0 1 4 1 1 1 1 2 1 1 1 1 3 1 1 4 2 4 0 2]\n",
            "1/1 [==============================] - 1s 567ms/step - loss: 1.6062 - accuracy: 0.2100\n",
            "Accuracy:  0.20999999344348907\n"
          ]
        }
      ]
    },
    {
      "cell_type": "code",
      "source": [
        "model = models.Sequential()\n",
        "model.add(layers.Embedding(vocab_size, 32))\n",
        "model.add(layers.LSTM(32))\n",
        "model.add(layers.Dense(5, kernel_initializer='normal', activation='softmax'))\n",
        " \n",
        "model.compile(loss='sparse_categorical_crossentropy',\n",
        "              optimizer='rmsprop',\n",
        "              metrics=['accuracy'])\n",
        " \n",
        "history = model.fit(x_train, y_train,\n",
        "                    batch_size=batch_size,\n",
        "                    epochs=20,\n",
        "                    verbose=1,\n",
        "                    validation_split=0.1)"
      ],
      "metadata": {
        "colab": {
          "base_uri": "https://localhost:8080/"
        },
        "id": "sJUBEN5Cbe4X",
        "outputId": "d8cec7e7-eb82-4f42-a42c-97cfb7765126"
      },
      "execution_count": 13,
      "outputs": [
        {
          "output_type": "stream",
          "name": "stdout",
          "text": [
            "Epoch 1/20\n",
            "9/9 [==============================] - 159s 12s/step - loss: 1.6020 - accuracy: 0.2289 - val_loss: 1.5920 - val_accuracy: 0.2100\n",
            "Epoch 2/20\n",
            "9/9 [==============================] - 110s 12s/step - loss: 1.5825 - accuracy: 0.2567 - val_loss: 1.5866 - val_accuracy: 0.3000\n",
            "Epoch 3/20\n",
            "9/9 [==============================] - 113s 13s/step - loss: 1.5799 - accuracy: 0.2533 - val_loss: 1.5884 - val_accuracy: 0.3000\n",
            "Epoch 4/20\n",
            "9/9 [==============================] - 110s 12s/step - loss: 1.5794 - accuracy: 0.2489 - val_loss: 1.5880 - val_accuracy: 0.3000\n",
            "Epoch 5/20\n",
            "9/9 [==============================] - 115s 13s/step - loss: 1.5790 - accuracy: 0.2511 - val_loss: 1.5883 - val_accuracy: 0.3000\n",
            "Epoch 6/20\n",
            "9/9 [==============================] - 111s 12s/step - loss: 1.5785 - accuracy: 0.2533 - val_loss: 1.5898 - val_accuracy: 0.3000\n",
            "Epoch 7/20\n",
            "9/9 [==============================] - 113s 13s/step - loss: 1.5786 - accuracy: 0.2467 - val_loss: 1.5919 - val_accuracy: 0.3000\n",
            "Epoch 8/20\n",
            "9/9 [==============================] - 115s 13s/step - loss: 1.5794 - accuracy: 0.2544 - val_loss: 1.5891 - val_accuracy: 0.3000\n",
            "Epoch 9/20\n",
            "9/9 [==============================] - 115s 13s/step - loss: 1.5781 - accuracy: 0.2622 - val_loss: 1.5922 - val_accuracy: 0.2100\n",
            "Epoch 10/20\n",
            "9/9 [==============================] - 117s 13s/step - loss: 1.5795 - accuracy: 0.2589 - val_loss: 1.5904 - val_accuracy: 0.2100\n",
            "Epoch 11/20\n",
            "9/9 [==============================] - 115s 13s/step - loss: 1.5785 - accuracy: 0.2622 - val_loss: 1.5913 - val_accuracy: 0.3000\n",
            "Epoch 12/20\n",
            "9/9 [==============================] - 116s 13s/step - loss: 1.5784 - accuracy: 0.2456 - val_loss: 1.5904 - val_accuracy: 0.3000\n",
            "Epoch 13/20\n",
            "9/9 [==============================] - 115s 13s/step - loss: 1.5782 - accuracy: 0.2500 - val_loss: 1.5902 - val_accuracy: 0.3000\n",
            "Epoch 14/20\n",
            "9/9 [==============================] - 116s 13s/step - loss: 1.5789 - accuracy: 0.2344 - val_loss: 1.5902 - val_accuracy: 0.2100\n",
            "Epoch 15/20\n",
            "9/9 [==============================] - 117s 13s/step - loss: 1.5784 - accuracy: 0.2633 - val_loss: 1.5914 - val_accuracy: 0.2100\n",
            "Epoch 16/20\n",
            "9/9 [==============================] - 115s 13s/step - loss: 1.5779 - accuracy: 0.2467 - val_loss: 1.5904 - val_accuracy: 0.2100\n",
            "Epoch 17/20\n",
            "9/9 [==============================] - 116s 13s/step - loss: 1.5799 - accuracy: 0.2622 - val_loss: 1.5901 - val_accuracy: 0.2100\n",
            "Epoch 18/20\n",
            "9/9 [==============================] - 115s 13s/step - loss: 1.5777 - accuracy: 0.2533 - val_loss: 1.5905 - val_accuracy: 0.2100\n",
            "Epoch 19/20\n",
            "9/9 [==============================] - 115s 13s/step - loss: 1.5786 - accuracy: 0.2589 - val_loss: 1.5925 - val_accuracy: 0.2100\n",
            "Epoch 20/20\n",
            "9/9 [==============================] - 114s 13s/step - loss: 1.5786 - accuracy: 0.2456 - val_loss: 1.5908 - val_accuracy: 0.2100\n"
          ]
        }
      ]
    },
    {
      "cell_type": "code",
      "source": [
        "print(x_test)\n",
        "print(y_test)\n",
        "score = model.evaluate(x_test, y_test, batch_size=batch_size, verbose=1)\n",
        "print('Accuracy: ', score[1])"
      ],
      "metadata": {
        "colab": {
          "base_uri": "https://localhost:8080/"
        },
        "id": "7CLavKhObjA2",
        "outputId": "10c485db-09a4-436f-f338-44806eedcc80"
      },
      "execution_count": 14,
      "outputs": [
        {
          "output_type": "stream",
          "name": "stdout",
          "text": [
            "[[0.         0.         0.         ... 0.         0.         0.        ]\n",
            " [0.         0.         0.95946744 ... 0.         0.         0.        ]\n",
            " [0.         0.         0.         ... 0.         0.         0.        ]\n",
            " ...\n",
            " [0.         0.95159035 1.62451959 ... 0.         0.         0.        ]\n",
            " [0.         0.         0.         ... 0.         0.         0.        ]\n",
            " [0.         0.         0.         ... 0.         0.         0.        ]]\n",
            "[0 3 4 1 2 2 3 2 0 4 3 0 0 4 3 0 4 2 3 4 1 4 4 4 0 3 1 1 1 3 1 4 0 0 2 0 1\n",
            " 2 1 4 3 1 2 3 3 4 4 0 0 0 0 2 1 4 0 1 1 3 3 2 0 0 4 0 3 1 3 4 3 3 1 4 3 1\n",
            " 2 0 1 3 3 3 0 1 4 1 1 1 1 2 1 1 1 1 3 1 1 4 2 4 0 2]\n",
            "1/1 [==============================] - 2s 2s/step - loss: 1.6054 - accuracy: 0.2100\n",
            "Accuracy:  0.20999999344348907\n"
          ]
        }
      ]
    },
    {
      "cell_type": "code",
      "source": [
        "import matplotlib.pyplot as plt\n",
        "from collections import Counter\n",
        "\n",
        "counts = Counter(train_set.Sentiment)\n",
        "\n",
        "labels = {'labels': list(counts.keys())}\n",
        "instances = {'counts': list(counts.values())}\n",
        "\n",
        "df = pd.DataFrame(instances, index=list(counts.keys()))\n",
        "\n",
        "print(labels)\n",
        "print(instances)\n",
        "\n",
        "ax = df.plot.bar(rot=0)"
      ],
      "metadata": {
        "colab": {
          "base_uri": "https://localhost:8080/",
          "height": 300
        },
        "id": "Clo5eBB-mVvF",
        "outputId": "523e34c5-5f62-41ed-dfd0-b3d46ef60bd1"
      },
      "execution_count": 25,
      "outputs": [
        {
          "output_type": "stream",
          "name": "stdout",
          "text": [
            "{'labels': [2, 3, 0, 1, 4]}\n",
            "{'counts': [166, 257, 163, 266, 148]}\n"
          ]
        },
        {
          "output_type": "display_data",
          "data": {
            "text/plain": [
              "<Figure size 432x288 with 1 Axes>"
            ],
            "image/png": "[encoded data removed]"
          },
          "metadata": {
            "needs_background": "light"
          }
        }
      ]
    }
  ]
}